{
  "nbformat": 4,
  "nbformat_minor": 0,
  "metadata": {
    "colab": {
      "name": "network_anomaly_detection.ipynb",
      "version": "0.3.2",
      "provenance": [],
      "collapsed_sections": []
    },
    "language_info": {
      "codemirror_mode": {
        "name": "ipython",
        "version": 3
      },
      "file_extension": ".py",
      "mimetype": "text/x-python",
      "name": "python",
      "nbconvert_exporter": "python",
      "pygments_lexer": "ipython3",
      "version": "3.6.7"
    },
    "kernelspec": {
      "name": "python3",
      "display_name": "Python 3"
    },
    "accelerator": "GPU"
  },
  "cells": [
    {
      "cell_type": "markdown",
      "metadata": {
        "id": "VYgzJtB8Bkk7",
        "colab_type": "text"
      },
      "source": [
        "# Network intrusion detection and classification"
      ]
    },
    {
      "cell_type": "markdown",
      "metadata": {
        "id": "Rxmd0FqTBkk8",
        "colab_type": "text"
      },
      "source": [
        "### 1. Import dependencies"
      ]
    },
    {
      "cell_type": "code",
      "metadata": {
        "id": "BETZbPl9Bkk9",
        "colab_type": "code",
        "outputId": "43545976-24fa-403f-ba8c-03422ad99785",
        "colab": {
          "base_uri": "https://localhost:8080/",
          "height": 34
        }
      },
      "source": [
        "import pandas as pd\n",
        "import numpy as np\n",
        "import matplotlib.pyplot as plt\n",
        "import tensorflow as tf\n",
        "from tensorflow import keras\n",
        "from keras.layers import Dense, Dropout\n",
        "from keras.models import Sequential\n",
        "from google.colab import drive"
      ],
      "execution_count": 2,
      "outputs": [
        {
          "output_type": "stream",
          "text": [
            "Using TensorFlow backend.\n"
          ],
          "name": "stderr"
        }
      ]
    },
    {
      "cell_type": "code",
      "metadata": {
        "id": "lC_mYX9tCP12",
        "colab_type": "code",
        "outputId": "fb870110-95be-4af2-d07d-0f918f2f24ac",
        "colab": {
          "base_uri": "https://localhost:8080/",
          "height": 121
        }
      },
      "source": [
        "drive.mount('/content/drive/') \n",
        "path = '/content/drive/My Drive/Colab Notebooks/datasets/network_data_train.txt'"
      ],
      "execution_count": 3,
      "outputs": [
        {
          "output_type": "stream",
          "text": [
            "Go to this URL in a browser: https://accounts.google.com/o/oauth2/auth?client_id=947318989803-6bn6qk8qdgf4n4g3pfee6491hc0brc4i.apps.googleusercontent.com&redirect_uri=urn%3Aietf%3Awg%3Aoauth%3A2.0%3Aoob&scope=email%20https%3A%2F%2Fwww.googleapis.com%2Fauth%2Fdocs.test%20https%3A%2F%2Fwww.googleapis.com%2Fauth%2Fdrive%20https%3A%2F%2Fwww.googleapis.com%2Fauth%2Fdrive.photos.readonly%20https%3A%2F%2Fwww.googleapis.com%2Fauth%2Fpeopleapi.readonly&response_type=code\n",
            "\n",
            "Enter your authorization code:\n",
            "··········\n",
            "Mounted at /content/drive/\n"
          ],
          "name": "stdout"
        }
      ]
    },
    {
      "cell_type": "markdown",
      "metadata": {
        "id": "4bg67QBkBklD",
        "colab_type": "text"
      },
      "source": [
        "### 2. Data Preprocessing"
      ]
    },
    {
      "cell_type": "code",
      "metadata": {
        "id": "TLudbtUQBklE",
        "colab_type": "code",
        "colab": {}
      },
      "source": [
        "# data does not have column headers, so define them\n",
        "headers = [\"duration\",\"protocol_type\",\"service\",\"flag\",\"src_bytes\",\n",
        "           \"dst_bytes\",\"land\",\"wrong_fragment\",\"urgent\",\"hot\",\n",
        "           \"num_failed_logins\",\"logged_in\",\"num_compromised\",\"root_shell\",\n",
        "           \"su_attempted\",\"num_root\",\"num_file_creations\",\"num_shells\",\n",
        "           \"num_access_files\",\"num_outbound_cmds\",\"is_host_login\",\n",
        "           \"is_guest_login\",\"count\",\"srv_count\",\"serror_rate\", \n",
        "           \"srv_serror_rate\",\"rerror_rate\",\"srv_rerror_rate\",\"same_srv_rate\", \n",
        "           \"diff_srv_rate\", \"srv_diff_host_rate\",\"dst_host_count\",\n",
        "           \"dst_host_srv_count\",\"dst_host_same_srv_rate\",\n",
        "           \"dst_host_diff_srv_rate\",\"dst_host_same_src_port_rate\",\n",
        "           \"dst_host_srv_diff_host_rate\",\"dst_host_serror_rate\",\n",
        "           \"dst_host_srv_serror_rate\",\"dst_host_rerror_rate\",\n",
        "           \"dst_host_srv_rerror_rate\",\"attack\", \"last_flag\"]\n",
        "\n",
        "# read csv\n",
        "data = pd.read_csv(path, names=headers)\n",
        "\n",
        "# choose relevent features\n",
        "features = ['duration','src_bytes','dst_bytes','num_file_creations', \n",
        "           'num_shells','num_failed_logins','wrong_fragment', \n",
        "           'urgent', 'is_guest_login', 'su_attempted', 'land', 'attack']\n",
        "df = data[features]"
      ],
      "execution_count": 0,
      "outputs": []
    },
    {
      "cell_type": "code",
      "metadata": {
        "id": "OCBlMUb9BklG",
        "colab_type": "code",
        "outputId": "c2e4d264-3d67-4a7f-fdf8-83ee51caed61",
        "colab": {
          "base_uri": "https://localhost:8080/",
          "height": 353
        }
      },
      "source": [
        "pd.set_option('display.max_columns', None)\n",
        "print(df.head())"
      ],
      "execution_count": 5,
      "outputs": [
        {
          "output_type": "stream",
          "text": [
            "   duration  src_bytes  dst_bytes  num_file_creations  num_shells  \\\n",
            "0         0        491          0                   0           0   \n",
            "1         0        146          0                   0           0   \n",
            "2         0          0          0                   0           0   \n",
            "3         0        232       8153                   0           0   \n",
            "4         0        199        420                   0           0   \n",
            "\n",
            "   num_failed_logins  wrong_fragment  urgent  is_guest_login  su_attempted  \\\n",
            "0                  0               0       0               0             0   \n",
            "1                  0               0       0               0             0   \n",
            "2                  0               0       0               0             0   \n",
            "3                  0               0       0               0             0   \n",
            "4                  0               0       0               0             0   \n",
            "\n",
            "   land   attack  \n",
            "0     0   normal  \n",
            "1     0   normal  \n",
            "2     0  neptune  \n",
            "3     0   normal  \n",
            "4     0   normal  \n"
          ],
          "name": "stdout"
        }
      ]
    },
    {
      "cell_type": "code",
      "metadata": {
        "id": "yDTRZxDxBklK",
        "colab_type": "code",
        "colab": {}
      },
      "source": [
        "class_labels = ['normal', 'dos', 'probing', 'u2r', 'r2l']\n",
        "\n",
        "# data has too many classes\n",
        "# to simplify problem, categorize them generic network attack types : Probing, U2R, R2L, and DOS\n",
        "\n",
        "dos = ['neptune', 'apache2', 'processtable', 'smurf', 'back', 'snmpguess', 'mailbomb', 'snmpgetattack',\n",
        "              'pod', 'multihop', 'teardrop', 'sqlattack', 'land']\n",
        "probing = ['mscan', 'satan', 'saint', 'portsweep', 'ipsweep', 'nmap', 'spy']\n",
        "u2r = ['buffer_overflow', 'ps', 'xterm', 'perl', 'loadmodule', 'imap']\n",
        "r2l = ['guess_passwd', 'warezmaster', 'httptunnel', 'named', 'sendmail', 'xlock','xsnoop', 'rootkit', \n",
        "       'ftp_write', 'worm', 'phf', 'udpstorm', 'warezclient']\n",
        "\n",
        "# replace all values in dataframe with corresponding int value\n",
        "\n",
        "df['attack'].replace('normal', 0, inplace=True)\n",
        "df['attack'].replace(dos, 1, inplace=True)\n",
        "df['attack'].replace(probing, 2, inplace=True)\n",
        "df['attack'].replace(u2r, 3, inplace=True)\n",
        "df['attack'].replace(r2l, 4, inplace=True)\n",
        "\n",
        "# shuffle the data\n",
        "df = df.sample(frac=1).reset_index(drop=True)"
      ],
      "execution_count": 0,
      "outputs": []
    },
    {
      "cell_type": "code",
      "metadata": {
        "id": "JCkU_Ps3D7RB",
        "colab_type": "code",
        "outputId": "ee261e9d-d67a-44e4-bafb-66a0bb00b401",
        "colab": {
          "base_uri": "https://localhost:8080/",
          "height": 118
        }
      },
      "source": [
        "df['attack'].value_counts()"
      ],
      "execution_count": 8,
      "outputs": [
        {
          "output_type": "execute_result",
          "data": {
            "text/plain": [
              "0    67343\n",
              "1    45934\n",
              "2    11658\n",
              "4      985\n",
              "3       53\n",
              "Name: attack, dtype: int64"
            ]
          },
          "metadata": {
            "tags": []
          },
          "execution_count": 8
        }
      ]
    },
    {
      "cell_type": "code",
      "metadata": {
        "id": "631ihDRvBklN",
        "colab_type": "code",
        "outputId": "09f71e97-0fc5-4054-eea0-9ee3313ecc20",
        "colab": {
          "base_uri": "https://localhost:8080/",
          "height": 50
        }
      },
      "source": [
        "# split data into inputs/outputs\n",
        "features = df[['duration','src_bytes','dst_bytes','num_file_creations', \n",
        "           'num_shells','num_failed_logins','wrong_fragment', \n",
        "           'urgent', 'is_guest_login', 'su_attempted', 'land']]\n",
        "labels = df['attack']\n",
        "\n",
        "X = np.array(features)\n",
        "y = np.array(labels).reshape(-1, 1)\n",
        "\n",
        "# make sure both arrays have correct dimensions\n",
        "print(X.shape)\n",
        "print(y.shape)"
      ],
      "execution_count": 9,
      "outputs": [
        {
          "output_type": "stream",
          "text": [
            "(125973, 11)\n",
            "(125973, 1)\n"
          ],
          "name": "stdout"
        }
      ]
    },
    {
      "cell_type": "markdown",
      "metadata": {
        "id": "xQGEDZmeBklQ",
        "colab_type": "text"
      },
      "source": [
        "### 3. Buidling the model"
      ]
    },
    {
      "cell_type": "code",
      "metadata": {
        "id": "GQLlT-d7BklR",
        "colab_type": "code",
        "colab": {}
      },
      "source": [
        "model = Sequential()\n",
        "\n",
        "model.add(Dense(units=32, activation='relu', input_dim=(11)))\n",
        "\n",
        "model.add(Dense(units=24, activation='relu'))\n",
        "model.add(Dropout(.2))\n",
        "\n",
        "model.add(Dense(units=11, activation='relu'))\n",
        "model.add(Dropout(.2))\n",
        "\n",
        "model.add(Dense(units=8, activation='relu'))\n",
        "\n",
        "model.add(Dense(units=5, activation='softmax'))\n",
        "\n",
        "model.compile(loss='sparse_categorical_crossentropy', optimizer=\"adam\", metrics=['accuracy'])"
      ],
      "execution_count": 0,
      "outputs": []
    },
    {
      "cell_type": "code",
      "metadata": {
        "colab_type": "code",
        "id": "ZiKseKHrIGfF",
        "outputId": "ec18915e-6c4c-4200-a9d2-8484db2826b8",
        "colab": {
          "base_uri": "https://localhost:8080/",
          "height": 370
        }
      },
      "source": [
        "model.fit(X, y, epochs=10, batch_size=32)"
      ],
      "execution_count": 0,
      "outputs": [
        {
          "output_type": "stream",
          "text": [
            "Epoch 1/10\n",
            "125973/125973 [==============================] - 14s 114us/step - loss: 0.8545 - acc: 0.8150\n",
            "Epoch 2/10\n",
            "125973/125973 [==============================] - 14s 109us/step - loss: 0.6077 - acc: 0.8326\n",
            "Epoch 3/10\n",
            "125973/125973 [==============================] - 14s 109us/step - loss: 0.5165 - acc: 0.8607\n",
            "Epoch 4/10\n",
            "125973/125973 [==============================] - 14s 109us/step - loss: 0.4751 - acc: 0.8737\n",
            "Epoch 5/10\n",
            "125973/125973 [==============================] - 14s 109us/step - loss: 0.4732 - acc: 0.8786\n",
            "Epoch 6/10\n",
            "125973/125973 [==============================] - 14s 108us/step - loss: 0.4648 - acc: 0.8798\n",
            "Epoch 7/10\n",
            "125973/125973 [==============================] - 14s 109us/step - loss: 0.5289 - acc: 0.8804\n",
            "Epoch 8/10\n",
            "125973/125973 [==============================] - 14s 114us/step - loss: 0.5267 - acc: 0.8804\n",
            "Epoch 9/10\n",
            "125973/125973 [==============================] - 14s 110us/step - loss: 0.4860 - acc: 0.8808\n",
            "Epoch 10/10\n",
            "125973/125973 [==============================] - 14s 109us/step - loss: 0.4331 - acc: 0.8818\n"
          ],
          "name": "stdout"
        },
        {
          "output_type": "execute_result",
          "data": {
            "text/plain": [
              "<keras.callbacks.History at 0x7f44326e0898>"
            ]
          },
          "metadata": {
            "tags": []
          },
          "execution_count": 16
        }
      ]
    },
    {
      "cell_type": "code",
      "metadata": {
        "id": "qyDTiD8wIeeG",
        "colab_type": "code",
        "outputId": "7f3bc8ee-76f2-48c4-c92d-bc201125b23b",
        "colab": {
          "base_uri": "https://localhost:8080/",
          "height": 34
        }
      },
      "source": [
        "test_path = '/content/drive/My Drive/Colab Notebooks/datasets/network_data_test.txt'\n",
        "\n",
        "test = pd.read_csv(path, names=headers)\n",
        "\n",
        "features = ['duration','src_bytes','dst_bytes','num_file_creations', \n",
        "           'num_shells','num_failed_logins','wrong_fragment', \n",
        "           'urgent', 'is_guest_login', 'su_attempted', 'land', 'attack']\n",
        "\n",
        "test = test[features]\n",
        "\n",
        "test['attack'].replace('normal', 0, inplace=True)\n",
        "test['attack'].replace(dos, 1, inplace=True)\n",
        "test['attack'].replace(probing, 2, inplace=True)\n",
        "test['attack'].replace(u2r, 3, inplace=True)\n",
        "test['attack'].replace(r2l, 4, inplace=True)\n",
        "\n",
        "X_test, y_test = df.drop('attack', axis=1), df['attack']\n",
        "\n",
        "val_loss, val_acc = model.evaluate(X_test, y_test) "
      ],
      "execution_count": 0,
      "outputs": [
        {
          "output_type": "stream",
          "text": [
            "125973/125973 [==============================] - 5s 39us/step\n"
          ],
          "name": "stdout"
        }
      ]
    },
    {
      "cell_type": "code",
      "metadata": {
        "id": "K52yOyIAKQ_f",
        "colab_type": "code",
        "outputId": "060c0971-49a6-4d18-e8ec-99e540510afb",
        "colab": {
          "base_uri": "https://localhost:8080/",
          "height": 50
        }
      },
      "source": [
        "print(val_acc)\n",
        "print(val_loss)"
      ],
      "execution_count": 0,
      "outputs": [
        {
          "output_type": "stream",
          "text": [
            "0.8859517515672312\n",
            "0.4039089575777885\n"
          ],
          "name": "stdout"
        }
      ]
    },
    {
      "cell_type": "markdown",
      "metadata": {
        "id": "yicGvcifSvp9",
        "colab_type": "text"
      },
      "source": [
        "#### 88% Accuracy on validation data"
      ]
    },
    {
      "cell_type": "code",
      "metadata": {
        "id": "CKciRL24LUH6",
        "colab_type": "code",
        "outputId": "4197c6da-c668-4e53-c058-84a49c1b74e5",
        "colab": {
          "base_uri": "https://localhost:8080/",
          "height": 50
        }
      },
      "source": [
        "# generate a random index to make a prediction on\n",
        "import random\n",
        "prediction_index = random.randint(0, len(X_test))\n",
        "\n",
        "# make prediction\n",
        "pred_input = np.array(list(X_test.iloc[prediction_index])).reshape(1, 11)\n",
        "prediction = class_labels[model.predict( pred_input ).argmax()]\n",
        "actual = class_labels[y_test.iloc[prediction_index]]\n",
        "\n",
        "# compare prediction vs actual value\n",
        "print(f'Predicted Value: {prediction}')\n",
        "print(f'Actual Value: {actual}')"
      ],
      "execution_count": 0,
      "outputs": [
        {
          "output_type": "stream",
          "text": [
            "Predicted Value: dos\n",
            "Actual Value: dos\n"
          ],
          "name": "stdout"
        }
      ]
    }
  ]
}